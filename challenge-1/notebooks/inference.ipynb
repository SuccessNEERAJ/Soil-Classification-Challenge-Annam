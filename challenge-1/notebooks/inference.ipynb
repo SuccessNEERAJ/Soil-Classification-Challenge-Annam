{
  "cells": [
    {
      "cell_type": "code",
      "execution_count": null,
      "metadata": {
        "id": "nG2h-3cWah1W"
      },
      "outputs": [],
      "source": [
        "\"\"\"\n",
        "\n",
        "Author: Neeraj Jaiswal\n",
        "Team Name: The Revengers\n",
        "Team Members: Neeraj Jaiswal, Karanbir Singh, Komal Dadwal, Jatin Mahey, Sonu Choubey\n",
        "Leaderboard Rank: 27\n",
        "\n",
        "\"\"\"\n",
        "import os\n",
        "# This is the notebook used for making the inferences using the model trained.\n",
        "\n",
        "clf_pipeline = joblib.load(\"../data/soil_classifier_pipeline.joblib\")\n",
        "\n",
        "def process_test_dataset_simple(test_csv_path, test_images_folder, clf_pipeline, output_csv_path):\n",
        "    df_test = pd.read_csv(test_csv_path)  # Contains image_id only\n",
        "    results = []\n",
        "\n",
        "    for _, row in df_test.iterrows():\n",
        "        image_id = row['image_id']\n",
        "        image_path = os.path.join(test_images_folder, image_id)\n",
        "\n",
        "        if not os.path.exists(image_path):\n",
        "            print(f\"Image not found: {image_path}\")\n",
        "            continue\n",
        "\n",
        "        image = cv2.imread(image_path)\n",
        "        if image is None:\n",
        "            print(f\"Could not read image: {image_path}\")\n",
        "            continue\n",
        "\n",
        "        gray = cv2.cvtColor(image, cv2.COLOR_BGR2GRAY)\n",
        "        color = get_dominant_color(image)\n",
        "        texture = get_texture_description(gray)\n",
        "\n",
        "        R, G, B = parse_rgb(color)\n",
        "\n",
        "        # Prepare input features as before, setting unknowns for drainage and fertility\n",
        "        X_new = pd.DataFrame({\n",
        "            'R': [R],\n",
        "            'G': [G],\n",
        "            'B': [B],\n",
        "            'texture': [texture]\n",
        "        })\n",
        "\n",
        "        soil_pred = clf_pipeline.predict(X_new)[0]\n",
        "\n",
        "        results.append({\n",
        "            \"image_id\": image_id,\n",
        "            \"soil_type\": soil_pred\n",
        "        })\n",
        "\n",
        "    result_df = pd.DataFrame(results)\n",
        "    result_df.to_csv(output_csv_path, index=False)\n",
        "    print(f\"Saved predicted soil types to {output_csv_path}\")\n",
        "    return result_df\n",
        "\n",
        "# Then call this function like:\n",
        "data_dir = \"../data/soil-classification\"\n",
        "test_csv_path = os.path.join(data_dir, \"test_ids.csv\")  # CSV with only image_id column\n",
        "test_images_folder = os.path.join(data_dir, \"test/\")\n",
        "output_csv_path = \"soil_test_predictions.csv\"\n",
        "\n",
        "predicted_df = process_test_dataset_simple(test_csv_path, test_images_folder, clf_pipeline, \"soil_test_predictions_simple.csv\")\n"
      ]
    }
  ],
  "metadata": {
    "colab": {
      "provenance": []
    },
    "kernelspec": {
      "display_name": "Python 3",
      "name": "python3"
    },
    "language_info": {
      "name": "python"
    }
  },
  "nbformat": 4,
  "nbformat_minor": 0
}
